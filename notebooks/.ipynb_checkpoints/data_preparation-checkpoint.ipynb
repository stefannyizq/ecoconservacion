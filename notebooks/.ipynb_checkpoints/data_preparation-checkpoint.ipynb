{
 "cells": [
  {
   "cell_type": "markdown",
   "id": "a6c0ca6f-6caa-4041-ac1f-2f755f537330",
   "metadata": {},
   "source": [
    "# Notebook: data_preparation.ipynb\n",
    "\n",
    "Este cuaderno tiene como objetivo preparar los datos espaciales requeridos para realizar análisis del departamento Valle del Cauca. A lo largo de este cuaderno realizaremos las siguientes tareas: \n",
    "-Carga de capas vectoriales (shapefiles).\n",
    "-Recorte y reproyección al sistema de referencia oficial MAGNA-SIRGAS (EPSG:3116).\n",
    "-Validación de coberturas para análisis espacial posteriores.\n",
    "Las capas utilizadas representan aspectos del territorio: vías, curvas de nivel, pendientes, cobertura del suelo, áreas protegidas e hidrografía"
   ]
  },
  {
   "cell_type": "markdown",
   "id": "93563b23-bbf8-4bbf-92eb-8772e109150e",
   "metadata": {},
   "source": [
    "# 1. Cargue de librerias \n",
    "En esta sección se importan las principales librerías que permiten manipular, visualizar y analizar datos geoespaciales. Cada una cumple un rol específico dentro del flujo de trabajo."
   ]
  },
  {
   "cell_type": "code",
   "execution_count": 19,
   "id": "b9b39765-d3ed-4af4-aab5-60803fbb016a",
   "metadata": {},
   "outputs": [],
   "source": [
    "import geopandas as gpd\n",
    "import pandas as pd\n",
    "import matplotlib.pyplot as plt\n",
    "import contextily as ctx\n",
    "import os"
   ]
  },
  {
   "cell_type": "markdown",
   "id": "f30883cd-8dc2-420e-80c2-d1fe6623fc35",
   "metadata": {},
   "source": [
    "### El objetivo de esta sección es filtrar y preparar el límite departamental del Valle del Cauca a partir de una capa nacional de municipios. Este límite se usará como máscara espacial para recortar y reproyectar otras capas de información.\n",
    "\n",
    "A continuación importamos el *stack* principal para preparación de datos espaciales y configuramos estilos globales:\n",
    "\n",
    "- **geopandas** – lectura, edición y escritura de GeoDataFrames (datos vectoriales con geometrías).\n",
    "- **pandas** – manejo de tablas y atributos no espaciales.\n",
    "- **matplotlib.pyplot** – graficación básica de geometrías y atributos.\n",
    "- **contextily** – adición de *tiles* de mapas base (Web Mercator) a nuestros gráficos.\n",
    "- **os** – operaciones con el sistema de archivos (rutas, creación de carpetas)."
   ]
  },
  {
   "cell_type": "markdown",
   "id": "3d7eebf7-e8e0-4bc3-b784-0a1021227933",
   "metadata": {},
   "source": [
    "### 2.Delimitación de los limites del Valle del Cauca, teniendo en cuenta que ya se tenia la capa de los municipos de Colombia \n",
    "\n",
    "Cargar toda la tabla espacial (gpd.read_file) para acceder al campo DPTO_CCDGO.\n",
    "\n",
    "Filtrar (gdf_mun[...=='76']) para quedarnos sólo con los polígonos cuyo código corresponda al Valle del Cauca.\n",
    "\n",
    "Unirlos en un único límite departamental con dissolve(by='DPTO_CCDGO').\n",
    "\n",
    "Guardar ese polígono resultante como un nuevo shapefile, para usarlo luego como máscara espacial sin tener que reprocesar todo el país."
   ]
  },
  {
   "cell_type": "code",
   "execution_count": 24,
   "id": "d2f07a07-c972-4c30-9560-5d0abe0642b1",
   "metadata": {},
   "outputs": [
    {
     "name": "stdout",
     "output_type": "stream",
     "text": [
      "Index(['DPTO_CCDGO', 'MPIO_CCDGO', 'MPIO_CNMBR', 'MPIO_CDPMP', 'VERSION',\n",
      "       'AREA', 'LATITUD', 'LONGITUD', 'STCTNENCUE', 'STP3_1_SI', 'STP3_2_NO',\n",
      "       'STP3A_RI', 'STP3B_TCN', 'STP4_1_SI', 'STP4_2_NO', 'STP9_1_USO',\n",
      "       'STP9_2_USO', 'STP9_3_USO', 'STP9_4_USO', 'STP9_2_1_M', 'STP9_2_2_M',\n",
      "       'STP9_2_3_M', 'STP9_2_4_M', 'STP9_2_9_M', 'STP9_3_1_N', 'STP9_3_2_N',\n",
      "       'STP9_3_3_N', 'STP9_3_4_N', 'STP9_3_5_N', 'STP9_3_6_N', 'STP9_3_7_N',\n",
      "       'STP9_3_8_N', 'STP9_3_9_N', 'STP9_3_10', 'STP9_3_99', 'STVIVIENDA',\n",
      "       'STP14_1_TI', 'STP14_2_TI', 'STP14_3_TI', 'STP14_4_TI', 'STP14_5_TI',\n",
      "       'STP14_6_TI', 'STP15_1_OC', 'STP15_2_OC', 'STP15_3_OC', 'STP15_4_OC',\n",
      "       'TSP16_HOG', 'STP19_EC_1', 'STP19_ES_2', 'STP19_EE_1', 'STP19_EE_2',\n",
      "       'STP19_EE_3', 'STP19_EE_4', 'STP19_EE_5', 'STP19_EE_6', 'STP19_EE_9',\n",
      "       'STP19_ACU1', 'STP19_ACU2', 'STP19_ALC1', 'STP19_ALC2', 'STP19_GAS1',\n",
      "       'STP19_GAS2', 'STP19_GAS9', 'STP19_REC1', 'STP19_REC2', 'STP19_INT1',\n",
      "       'STP19_INT2', 'STP19_INT9', 'STP27_PERS', 'STPERSON_L', 'STPERSON_S',\n",
      "       'STP32_1_SE', 'STP32_2_SE', 'STP34_1_ED', 'STP34_2_ED', 'STP34_3_ED',\n",
      "       'STP34_4_ED', 'STP34_5_ED', 'STP34_6_ED', 'STP34_7_ED', 'STP34_8_ED',\n",
      "       'STP34_9_ED', 'STP51_PRIM', 'STP51_SECU', 'STP51_SUPE', 'STP51_POST',\n",
      "       'STP51_13_E', 'STP51_99_E', 'Shape_Leng', 'Shape_Area', 'Codigo_Mun',\n",
      "       'geometry'],\n",
      "      dtype='object')\n",
      "42 municipios seleccionados\n",
      "                                                     geometry MPIO_CCDGO  \\\n",
      "DPTO_CCDGO                                                                 \n",
      "76          MULTIPOLYGON (((731864.147 855725.841, 731926....        001   \n",
      "\n",
      "           MPIO_CNMBR MPIO_CDPMP  VERSION          AREA   LATITUD   LONGITUD  \\\n",
      "DPTO_CCDGO                                                                     \n",
      "76               CALI      76001     2018  5.630409e+08  3.399044 -76.576493   \n",
      "\n",
      "            STCTNENCUE  STP3_1_SI  ...  STP34_9_ED  STP51_PRIM  STP51_SECU  \\\n",
      "DPTO_CCDGO                         ...                                       \n",
      "76            749642.0        0.0  ...     51832.0    411229.0    772518.0   \n",
      "\n",
      "            STP51_SUPE  STP51_POST  STP51_13_E  STP51_99_E  Shape_Leng  \\\n",
      "DPTO_CCDGO                                                               \n",
      "76            419962.0     57364.0     35273.0     28564.0    1.164411   \n",
      "\n",
      "            Shape_Area  Codigo_Mun  \n",
      "DPTO_CCDGO                          \n",
      "76            0.045733       76001  \n",
      "\n",
      "[1 rows x 91 columns]\n"
     ]
    },
    {
     "name": "stderr",
     "output_type": "stream",
     "text": [
      "/opt/miniconda/lib/python3.11/site-packages/pyogrio/raw.py:709: RuntimeWarning: Value 563040919.671000004 of field AREA of feature 0 not successfully written. Possibly due to too larger number with respect to field width\n",
      "  ogr_write(\n"
     ]
    }
   ],
   "source": [
    "#2.Definición de limites de Valle del Cauca\n",
    "ruta_municipios = ruta_municipios = \"../../Workshop_6/datos_colombia/municipios_colombia.shp\"\n",
    "gdf_mun = gpd.read_file(ruta_municipios)\n",
    "print(gdf_mun.columns)\n",
    "valle = gdf_mun[gdf_mun['DPTO_CCDGO'] == '76']\n",
    "print(f\"{len(valle)} municipios seleccionados\")\n",
    "valle_diss = valle.dissolve(by='DPTO_CCDGO')\n",
    "print(valle_diss)\n",
    "output_path = \"../data/limites/limite_valle.shp\"\n",
    "os.makedirs(os.path.dirname(output_path), exist_ok=True)\n",
    "valle_diss.to_file(output_path)\n"
   ]
  },
  {
   "cell_type": "markdown",
   "id": "15539b4b-92d4-4420-b43c-0624f870c9bd",
   "metadata": {},
   "source": [
    "gpd.read_file(...) carga el shapefile completo en un GeoDataFrame.\n",
    "\n",
    "print(gdf_mun.columns) nos muestra todos los atributos disponibles.\n",
    "\n",
    "gdf_mun[...] aplica un filtro booleano para quedarnos solo con DPTO_CCDGO='76'.\n",
    "\n",
    "dissolve(by=\"DPTO_CCDGO\") une las múltiples geometrías en una sola, basándose en el atributo común.\n",
    "\n",
    "os.makedirs(...) asegura que la carpeta destino exista antes de guardar.\n",
    "\n",
    "to_file(...) escribe el nuevo shapefile en ../data/limites/limite_valle.shp, que usaremos como máscara espacial."
   ]
  },
  {
   "cell_type": "markdown",
   "id": "86d2c472-4854-4f6c-944a-5f483ac90506",
   "metadata": {},
   "source": [
    "### 4. Definición de rutas a las capas de entrada"
   ]
  },
  {
   "cell_type": "markdown",
   "id": "23d2a29f-5a0b-420d-a315-be72717eb291",
   "metadata": {},
   "source": [
    "Este bloque define las rutas completas a varios archivos shapefile (.shp) que representan diferentes capas temáticas del territorio del Valle del Cauca.\n",
    "\n",
    "Se usa os.path.join() para construir cada ruta combinando:\n",
    "\n",
    "data_dir → carpeta base donde están todos los datos.\n",
    "\n",
    "Subcarpeta temática (ej. \"vias\", \"suelos\", etc.).\n",
    "\n",
    "De acuerdo con las necesidades las siguientes capas describen:\n",
    "\n",
    "limite_valle: Límite departamental de Valle del Cauca, que actúa como máscara espacial para recortar otras capas.\n",
    "\n",
    "vias: Red vial (carreteras, caminos).\n",
    "\n",
    "areas_protegidas: Zonas naturales con algún tipo de protección legal.\n",
    "\n",
    "curvas_nivel: Líneas que representan elevación del terreno (topografía).\n",
    "\n",
    "pendientes: Información sobre inclinación del terreno.\n",
    "\n",
    "suelo: Cobertura del suelo (tipo de uso, vegetación, cultivos, etc.).\n",
    "\n",
    "hidrografia: Ríos, quebradas y otros cuerpos de agua."
   ]
  },
  {
   "cell_type": "code",
   "execution_count": 35,
   "id": "ceef4132-4769-48d6-901b-98bdbfcb5034",
   "metadata": {},
   "outputs": [],
   "source": [
    "limite_valle = os.path.join(data_dir, \"limites\", \"limite_valle.shp\")\n",
    "vias = os.path.join(data_dir, \"vias\", \"CBTR_VIA.shp\")\n",
    "areas_protegidas = os.path.join(data_dir, \"areas_protegidas\", \"areas_protegidas_valle.shp\")\n",
    "curvas_nivel = os.path.join(data_dir, \"curvas_nivel\", \"CBRL_CURVAS_10K.shp\")\n",
    "pendientes = os.path.join(data_dir, \"suelos\", \"CBRL_PENDIENTES_CN100.shp\")\n",
    "suelo = os.path.join(data_dir, \"suelos\", \"SLCS_COBERTURA_SUELO.shp\")\n",
    "hidrografia = os.path.join(data_dir, \"hidrologia\", \"DRENAJE_L.shp\")"
   ]
  },
  {
   "cell_type": "code",
   "execution_count": 36,
   "id": "0dc5586d-4073-4289-925d-450c3938d67c",
   "metadata": {},
   "outputs": [
    {
     "data": {
      "image/png": "[encoded data removed]",
      "text/plain": [
       "<Figure size 640x480 with 1 Axes>"
      ]
     },
     "metadata": {},
     "output_type": "display_data"
    }
   ],
   "source": [
    "valle = gpd.read_file(limite_valle)\n",
    "valle.plot(edgecolor='black', facecolor='none')\n",
    "plt.title(\"Límite Valle del Cauca\")\n",
    "plt.show()"
   ]
  },
  {
   "cell_type": "markdown",
   "id": "f9ffe861-67a4-490a-8638-521a864d6117",
   "metadata": {},
   "source": [
    "### Recorte y Reproyección de Capas Temáticas\n",
    "Para garantizar que todas las capas estén alineadas espacialmente y se puedan analizar entre sí, es necesario:\n",
    "\n",
    "Reproyectarlas a un sistema de referencia común.\n",
    "Recortarlas al área de estudio en este caso, el Valle del Cauca."
   ]
  },
  {
   "cell_type": "code",
   "execution_count": null,
   "id": "a218ceb5-bdda-4273-9435-3d3f059346ee",
   "metadata": {},
   "outputs": [],
   "source": [
    "# Reproyectar todo a MAGNA-SIRGAS EPSG:3116\n",
    "def recortar_y_reproyectar(capa, limite, epsg=3116):\n",
    "    if capa.crs != limite.crs:\n",
    "        capa = capa.to_crs(limite.crs)\n",
    "    recorte = gpd.overlay(capa, limite, how='intersection')\n",
    "    return recorte.to_crs(epsg)"
   ]
  },
  {
   "cell_type": "code",
   "execution_count": null,
   "id": "74f1fedc-3ce0-4b4d-88ac-2a836e37c1e8",
   "metadata": {
    "scrolled": true
   },
   "outputs": [],
   "source": [
    "#5.Aplicación a cada capa \n",
    "cartografia = \"../Datos/catografiabasica_valle/CBTR_VIA.shp\"\n",
    "proteccion = \"../Datos/areas_protegidas/runap_-_Registro_Unico_Nacional_AP.shp\"\n",
    "curvas = \"../Datos/catografiabasica_valle/CBRL_CURVAS.shp\"\n",
    "pendiente = \"../Datos/suelo_valle/SUELO_SHP/CBRL_PENDIENTES_CN100.shp\"\n",
    "suelo = \"../suelo_valle/SUELO_SHP/SLCS_COBERTURA_SUELO.shp\"\n",
    "hidrografia = \"../hidrologia_valle/AGUA_SHP/SP_CUERPO_AGUA.shp\"\n",
    "\n",
    "\n",
    "gdf_cartografia = gpd.read_file(cartografia)\n",
    "gdf_vias = gpd.read_file(cartografia)\n",
    "gdf_protegidas = gpd.read_file(proteccion)\n",
    "gdf_curvas = gpd.read_file(curvas)\n",
    "gdf_pendiente = gpd.read_file(pendiente)\n",
    "gdf_suelo = gpd.read_file(suelo)\n",
    "gdf_hidrografia = gpd.read_file(hidrografia)"
   ]
  },
  {
   "cell_type": "code",
   "execution_count": null,
   "id": "085c4cd7-989a-49c3-9d33-c3ad4b9dadbc",
   "metadata": {},
   "outputs": [],
   "source": [
    "# Recortar y reproyectar\n",
    "vias_valle = recortar_y_reproyectar(gdf_vias, valle)\n",
    "protegidas_valle = recortar_y_reproyectar(gdf_protegidas, valle)\n",
    "curvas_valle = recortar_y_reproyectar(gdf_curvas, valle)\n",
    "pendiente_valle = recortar_y_reproyectar(gdf_pendiente, valle)\n",
    "suelo_valle = recortar_y_reproyectar(gdf_suelo, valle)\n",
    "hidro_valle = recortar_y_reproyectar(gdf_hidrografia, valle)\n"
   ]
  },
  {
   "cell_type": "code",
   "execution_count": 1,
   "id": "f28cfac8-47cd-43d9-83ae-57594a2f097a",
   "metadata": {},
   "outputs": [],
   "source": [
    "#Prueba"
   ]
  },
  {
   "cell_type": "code",
   "execution_count": null,
   "id": "3b5599bf-56f6-4dfb-94f5-4a1c13e4c076",
   "metadata": {},
   "outputs": [],
   "source": []
  }
 ],
 "metadata": {
  "kernelspec": {
   "display_name": "Python 3 (ipykernel)",
   "language": "python",
   "name": "python3"
  },
  "language_info": {
   "codemirror_mode": {
    "name": "ipython",
    "version": 3
   },
   "file_extension": ".py",
   "mimetype": "text/x-python",
   "name": "python",
   "nbconvert_exporter": "python",
   "pygments_lexer": "ipython3",
   "version": "3.11.9"
  }
 },
 "nbformat": 4,
 "nbformat_minor": 5
}
