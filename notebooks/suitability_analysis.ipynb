{
 "cells": [
  {
   "cell_type": "markdown",
   "id": "43ba16c5-2b5c-4121-a0e0-eab889c9e8c9",
   "metadata": {},
   "source": [
    "### Suitability Analysis\n",
    "\n",
    "Este cuaderno tiene como objetivo realizar un análisis de aptitud espacial en el departamento del Valle del Cauca. A partir de los datos previamente preparados y reproyectados en el sistema de referencia oficial MAGNA-SIRGAS (EPSG:3116), se integrarán diversas capas temáticas para identificar las zonas más adecuadas para conservación ecológica.\n",
    "\n",
    "## Capas utilizadas:\n",
    "- Vías\n",
    "- Áreas protegidas\n",
    "- Curvas de nivel\n",
    "- Pendientes\n",
    "- Cobertura del suelo\n",
    "- Hidrografía\n",
    "\n",
    "## Metodología general:\n",
    "1. **Normalización de criterios**: se asignarán valores a cada capa según su influencia positiva o negativa en la aptitud.\n",
    "2. **Combinación ponderada**: se aplicarán pesos a cada capa según su importancia relativa.\n",
    "3. **Análisis espacial**: se generará un mapa de aptitud mediante álgebra de mapas.\n",
    "4. **Clasificación**: el resultado se clasificará en zonas de alta, media y baja aptitud.\n"
   ]
  },
  {
   "cell_type": "code",
   "execution_count": null,
   "id": "dc520ab4-d994-47d2-994d-47a4c6ab0911",
   "metadata": {},
   "outputs": [],
   "source": [
    "import geopandas as gpd\n",
    "import matplotlib.pyplot as plt\n",
    "import numpy as np\n",
    "\n",
    "## Cargar capas reproyectadas y recortadas al Valle del Cauca\n",
    "\n",
    "gdf_cartografia = gpd.read_file(cartografia)\n",
    "gdf_vias = gpd.read_file(cartografia)\n",
    "gdf_protegidas = gpd.read_file(proteccion)\n",
    "gdf_curvas = gpd.read_file(curvas)\n",
    "gdf_pendiente = gpd.read_file(pendiente)\n",
    "gdf_suelo = gpd.read_file(suelo)\n",
    "gdf_hidrografia = gpd.read_file(hidrografia)"
   ]
  },
  {
   "cell_type": "code",
   "execution_count": null,
   "id": "383caceb-07b5-44be-a086-8c473b3bba8e",
   "metadata": {},
   "outputs": [],
   "source": [
    "from shapely.geometry import Point\n",
    "from shapely.ops import nearest_points\n",
    "from scipy.spatial import cKDTree\n",
    "\n",
    "# 1. Crear una grilla de puntos dentro del Valle del Cauca\n",
    "from rasterio.features import geometry_mask\n",
    "from rasterio.transform import from_origin\n",
    "\n",
    "# Convertir a un solo polígono\n",
    "valle_union = vias_valle.unary_union\n",
    "\n",
    "# Ajustar resolución según el tamaño del área\n",
    "xmin, ymin, xmax, ymax = valle_union.bounds\n",
    "\n",
    "res = 1000  # tamaño de celda en metros\n",
    "x_coords = np.arange(xmin, xmax, res)\n",
    "y_coords = np.arange(ymin, ymax, res)\n",
    "grid_points = [Point(x, y) for x in x_coords for y in y_coords]\n",
    "grid_gdf = gpd.GeoDataFrame(geometry=grid_points, crs=vias_valle.crs)\n",
    "\n",
    "# 2. Calcular distancia mínima de cada punto a la vía más cercana\n",
    "vias_union = vias_valle.unary_union  # unifica todos los segmentos de vía\n",
    "grid_gdf[\"dist_vias\"] = grid_gdf.geometry.apply(lambda point: point.distance(vias_union))\n",
    "\n",
    "# 3. Visualizar mapa de distancias\n",
    "fig, ax = plt.subplots(figsize=(10, 8))\n",
    "grid_gdf.plot(column=\"dist_vias\", cmap=\"YlOrRd\", legend=True, ax=ax)\n",
    "vias_valle.plot(ax=ax, color='black', linewidth=0.5)\n",
    "plt.title(\"Distancia a Vías (metros)\")\n",
    "plt.show()\n"
   ]
  },
  {
   "cell_type": "code",
   "execution_count": 1,
   "id": "fad9da5e-c29c-4fd7-9bdd-07c739867af8",
   "metadata": {},
   "outputs": [],
   "source": [
    "#Prueba"
   ]
  }
 ],
 "metadata": {
  "kernelspec": {
   "display_name": "Python 3 (ipykernel)",
   "language": "python",
   "name": "python3"
  },
  "language_info": {
   "codemirror_mode": {
    "name": "ipython",
    "version": 3
   },
   "file_extension": ".py",
   "mimetype": "text/x-python",
   "name": "python",
   "nbconvert_exporter": "python",
   "pygments_lexer": "ipython3",
   "version": "3.11.9"
  }
 },
 "nbformat": 4,
 "nbformat_minor": 5
}
