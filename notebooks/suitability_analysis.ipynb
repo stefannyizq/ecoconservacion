{
 "cells": [
  {
   "cell_type": "code",
   "execution_count": null,
   "id": "918a892d-4947-46c3-9654-33b5208cf3f6",
   "metadata": {},
   "outputs": [],
   "source": [
    "#suitability_analysis"
   ]
  },
  {
   "cell_type": "code",
   "execution_count": 2,
   "id": "66c3976c-f19b-404b-bfc2-7746ba52545b",
   "metadata": {},
   "outputs": [],
   "source": [
    "import sys"
   ]
  },
  {
   "cell_type": "code",
   "execution_count": null,
   "id": "b25f6314-3898-4821-b324-bc67a120eb69",
   "metadata": {},
   "outputs": [],
   "source": []
  }
 ],
 "metadata": {
  "kernelspec": {
   "display_name": "Python 3 (ipykernel)",
   "language": "python",
   "name": "python3"
  },
  "language_info": {
   "codemirror_mode": {
    "name": "ipython",
    "version": 3
   },
   "file_extension": ".py",
   "mimetype": "text/x-python",
   "name": "python",
   "nbconvert_exporter": "python",
   "pygments_lexer": "ipython3",
   "version": "3.11.9"
  }
 },
 "nbformat": 4,
 "nbformat_minor": 5
}
