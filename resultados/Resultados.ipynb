{
 "cells": [
  {
   "cell_type": "code",
   "execution_count": 1,
   "id": "a311f562-35e4-410e-b5c8-70c1aa0a781a",
   "metadata": {},
   "outputs": [],
   "source": [
    "#Posibles resultados "
   ]
  },
  {
   "cell_type": "code",
   "execution_count": null,
   "id": "b30d9064-0081-43f9-af29-61a5437f3b3e",
   "metadata": {},
   "outputs": [],
   "source": []
  }
 ],
 "metadata": {
  "kernelspec": {
   "display_name": "Python 3 (ipykernel)",
   "language": "python",
   "name": "python3"
  },
  "language_info": {
   "codemirror_mode": {
    "name": "ipython",
    "version": 3
   },
   "file_extension": ".py",
   "mimetype": "text/x-python",
   "name": "python",
   "nbconvert_exporter": "python",
   "pygments_lexer": "ipython3",
   "version": "3.11.9"
  }
 },
 "nbformat": 4,
 "nbformat_minor": 5
}
